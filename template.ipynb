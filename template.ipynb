{
  "cells": [
    {
      "cell_type": "markdown",
      "metadata": {
        "id": "view-in-github",
        "colab_type": "text"
      },
      "source": [
        "<a href=\"https://colab.research.google.com/github/mirasac/algoopti/blob/main/template.ipynb\" target=\"_parent\"><img src=\"https://colab.research.google.com/assets/colab-badge.svg\" alt=\"Open In Colab\"/></a>"
      ]
    },
    {
      "cell_type": "code",
      "execution_count": null,
      "metadata": {},
      "outputs": [],
      "source": [
        "# Run this block to install the specified version of Julia in the current Google Colab session.\n",
        "%%capture\n",
        "%%bash\n",
        "set -e\n",
        "\n",
        "JULIA_VERSION='1.6.7'\n",
        "\n",
        "# Install Julia if not already present.\n",
        "if [ -z \"$(which julia)\" ]\n",
        "then\n",
        "    JULIA_V=\"${JULIA_VERSION%.*}\"\n",
        "    URL_BASE='https://julialang-s3.julialang.org/bin/linux/x64'\n",
        "    URL=\"${URL_BASE}/${JULIA_V}/julia-${JULIA_VERSION}-linux-x86_64.tar.gz\"\n",
        "    wget \"${URL}\" -O /tmp/julia.tar.gz\n",
        "    tar -x -f /tmp/julia.tar.gz -C /usr/local --strip-components 1\n",
        "    rm /tmp/julia.tar.gz\n",
        "fi\n",
        "\n",
        "# Install Julia kernel for Jupyter.\n",
        "julia -e 'using Pkg; Pkg.add(\"IJulia\"); using IJulia; IJulia.installkernel(\"julia\")'\n",
        "KERNEL_DIR=\"$(julia -e 'using IJulia; print(IJulia.kerneldir())')\"\n",
        "jupyter kernelspec install \"${KERNEL_DIR}/julia-${JULIA_V}\" --replace --name julia\n",
        "\n",
        "# After the block execution is complete, select the Julia runtime."
      ]
    }
  ],
  "metadata": {
    "colab": {
      "provenance": []
    },
    "kernelspec": {
      "display_name": "Julia",
      "language": "julia",
      "name": "julia"
    }
  },
  "nbformat": 4,
  "nbformat_minor": 0
}
