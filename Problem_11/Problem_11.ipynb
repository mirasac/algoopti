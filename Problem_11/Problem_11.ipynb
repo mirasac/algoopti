{
 "cells": [
  {
   "attachments": {},
   "cell_type": "markdown",
   "metadata": {},
   "source": [
    "# Problem 11 (Recursive subsets)\n",
    "Design a recursive function to print the $\\binom{n}{k}$ subsets of $\\{1, \\dots, n\\}$ of size $k$."
   ]
  },
  {
   "attachments": {},
   "cell_type": "markdown",
   "metadata": {},
   "source": [
    "## Solution\n",
    "The function takes as arguments the number of elements $n$ and the size of the S $k$. Condition $k \\leq n$ must be always verified otherwise no meaningful result can be obtained. This idea can be generalized to operate on a set of generic elements, not necessarily a sequence of natural numbers.\n",
    "\n",
    "To devise a tail recursion, fix $k$ and think on how the set of size $n$ can be obtained by adding an element. Two cases arise for the added element:\n",
    "\n",
    "1. It is not part of any subset, then subsets found in the set of size $n - 1$ are valid for the set of size $n$.\n",
    "2. It is part of every subset, then subsets of size $k$ at the actual step are found adding the last element to subsets of size $k - 1$ of set of size $n - 1$.\n",
    "\n",
    "At each iteration, the sets of subsets found at point 1 and 2 should be added together to have a collection of sets of subsets for all the previous the steps. The process stops when either the set passed as argument is empty, meaning that all the possible combinations of elements are explored, or subset size is $k = 0$, meaning that all the subsets of $k$ elements are explored.\n",
    "\n",
    "A formula representing this recursion for the set of subsets $S(n, k)$ is:\n",
    "\n",
    "$$\n",
    "S(n, k) =\n",
    "\\begin{cases}\n",
    "    \\{\\}                                                          & k > n                 \\\\\n",
    "    \\{\\}                                                          & n \\leq 2 \\wedge k = 0 \\\\\n",
    "    \\{ \\{ n \\} \\}                                                 & n = 1 \\wedge k = 1    \\\\\n",
    "    S(n - 1, k) \\cup \\{ s \\cup \\{ n \\} : s \\in S(n - 1, k - 1) \\} & n \\geq 2 \\wedge k > 1\n",
    "\\end{cases}\n",
    "$$"
   ]
  },
  {
   "cell_type": "code",
   "execution_count": null,
   "metadata": {},
   "outputs": [],
   "source": [
    "def S(n, k):\n",
    "    if k > n:\n",
    "        return []\n",
    "    elif n <= 2 and k == 0:\n",
    "        return []\n",
    "    elif n == 1 and k == 1:\n",
    "        return [[1]]\n",
    "    n_out = S(n - 1, k)\n",
    "    n_in = S(n - 1, k - 1)\n",
    "    for s in n_in:\n",
    "        s.append(n)\n",
    "    n_out.extend(n_in)\n",
    "    return n_out"
   ]
  },
  {
   "cell_type": "code",
   "execution_count": null,
   "metadata": {},
   "outputs": [],
   "source": [
    "res = S(4, 2)\n",
    "print(f\"Result: {res}\")\n",
    "# Expected result: 43 42 41 32 31 21"
   ]
  }
 ],
 "metadata": {
  "kernelspec": {
   "display_name": "venv",
   "language": "python",
   "name": "python3"
  },
  "language_info": {
   "codemirror_mode": {
    "name": "ipython",
    "version": 3
   },
   "file_extension": ".py",
   "mimetype": "text/x-python",
   "name": "python",
   "nbconvert_exporter": "python",
   "pygments_lexer": "ipython3",
   "version": "3.10.4"
  },
  "orig_nbformat": 4
 },
 "nbformat": 4,
 "nbformat_minor": 2
}
