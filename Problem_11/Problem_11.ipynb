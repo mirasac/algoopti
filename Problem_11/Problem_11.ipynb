{
 "cells": [
  {
   "attachments": {},
   "cell_type": "markdown",
   "metadata": {},
   "source": [
    "# Problem 11 (Recursive subsets)\n",
    "Design a recursive function to print the $\\binom{n}{k}$ subsets of $\\{1, \\dots, n\\}$ of size $k$."
   ]
  },
  {
   "attachments": {},
   "cell_type": "markdown",
   "metadata": {},
   "source": [
    "## Solution\n",
    "The function takes as arguments the number of elements $n$ and the size of the subsets $k$. Clearly the condition $k \\leq n$ must be always verified. This idea can be generalized to operate on a set of generic elements, not necessarily a sequence of natural numbers.\n",
    "\n",
    "First it selects an element from the original set, say the last one to set up a tail recursion. Two cases arise for this elements:\n",
    "\n",
    "1. It is part of the subset, then the function is called again passing the original set excluding this element and subset size $k - 1$.\n",
    "2. It is not a part of any subset, then the function is called again passing the original set excluding this element and subset size $k$.\n",
    "\n",
    "The process stops when either the set passed as argument is empty, meaning that all the possible combinations of elements are explored, or subset size $k = 0$, meaning that all the subsets of $k$ elements are explored."
   ]
  },
  {
   "cell_type": "code",
   "execution_count": null,
   "metadata": {},
   "outputs": [],
   "source": [
    "def subsets(n, k):\n",
    "    if n == 0 or k == 0:\n",
    "        return []  # MC not the right choice, think about it.\n",
    "    # Case 1.\n",
    "    s = subsets(n - 1, k - 1)\n",
    "    # Case 2.\n",
    "    subsets(n - 1, k)"
   ]
  },
  {
   "cell_type": "code",
   "execution_count": null,
   "metadata": {},
   "outputs": [],
   "source": [
    "subsets(4, 2)"
   ]
  }
 ],
 "metadata": {
  "kernelspec": {
   "display_name": "venv",
   "language": "python",
   "name": "python3"
  },
  "language_info": {
   "codemirror_mode": {
    "name": "ipython",
    "version": 3
   },
   "file_extension": ".py",
   "mimetype": "text/x-python",
   "name": "python",
   "nbconvert_exporter": "python",
   "pygments_lexer": "ipython3",
   "version": "3.10.4"
  },
  "orig_nbformat": 4
 },
 "nbformat": 4,
 "nbformat_minor": 2
}
