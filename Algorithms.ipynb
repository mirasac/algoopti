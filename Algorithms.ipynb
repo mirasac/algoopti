{
 "cells": [
  {
   "attachments": {},
   "cell_type": "markdown",
   "metadata": {},
   "source": [
    "# Notation\n",
    "$T(n)$ number of operations given a problem of size $n$."
   ]
  },
  {
   "attachments": {},
   "cell_type": "markdown",
   "metadata": {},
   "source": [
    "# Algorithm 2\n",
    "Algorithm to print the solution of a Hanoi tower game (3 towers)."
   ]
  },
  {
   "cell_type": "code",
   "execution_count": 2,
   "metadata": {
    "tags": []
   },
   "outputs": [],
   "source": [
    "def hanoi(n, source='a', helper='b', target='c'):\n",
    "    if n > 0:\n",
    "        hanoi(n - 1, source, target, helper)\n",
    "        print(f\"{source} -> {target}\")\n",
    "        hanoi(n - 1, helper, source, target)"
   ]
  },
  {
   "cell_type": "code",
   "execution_count": 4,
   "metadata": {
    "tags": [
     "remove-cell"
    ]
   },
   "outputs": [
    {
     "name": "stdout",
     "output_type": "stream",
     "text": [
      "a -> c\n",
      "a -> b\n",
      "c -> b\n",
      "a -> c\n",
      "b -> a\n",
      "b -> c\n",
      "a -> c\n"
     ]
    }
   ],
   "source": [
    "hanoi(3)"
   ]
  },
  {
   "attachments": {},
   "cell_type": "markdown",
   "metadata": {},
   "source": [
    "## Computation time\n",
    "It is written in terms of the number of single disk moves $T(n)$ to move $n$ disks from the source rod to the target rod.  \n",
    "The initial condition is $T(0) = 0$. For a generic $n$:\n",
    "\n",
    "$$\n",
    "\\begin{split}\n",
    "    T(n) &= T(n - 1) + 1 + T(n - 1) = \\\\\n",
    "         &= 2 T(n - 1) + 1 = 2 \\, (2 T(n - 2) + 1) + 1 = 2^2 \\, T(n - 2) + 2 + 1 = \\\\\n",
    "         &= 2^3 \\, T(n - 3) + 2^2 + 2^1 + 2^0 = \\cdots = 2^n T(0) + \\sum_{k=0}^{n-1} 2^k = \\frac{1 - 2^{n - 1 - 0 + 1}}{1 - 2} = \\\\\n",
    "         &= 2^n - 1 = O(2^n)\n",
    "\\end{split}\n",
    "$$"
   ]
  }
 ],
 "metadata": {
  "kernelspec": {
   "display_name": "Python 3.10.4 ('venv': venv)",
   "language": "python",
   "name": "python3"
  },
  "language_info": {
   "codemirror_mode": {
    "name": "ipython",
    "version": 3
   },
   "file_extension": ".py",
   "mimetype": "text/x-python",
   "name": "python",
   "nbconvert_exporter": "python",
   "pygments_lexer": "ipython3",
   "version": "3.10.4"
  },
  "orig_nbformat": 4,
  "vscode": {
   "interpreter": {
    "hash": "1015eb0450a38302f8a6c3ddee84c966f9fc98d7c1d26eef2bc811b91e9474f1"
   }
  }
 },
 "nbformat": 4,
 "nbformat_minor": 2
}
