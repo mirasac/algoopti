{
 "cells": [
  {
   "attachments": {},
   "cell_type": "markdown",
   "metadata": {
    "tags": [
     "remove-cell"
    ]
   },
   "source": [
    "# README\n",
    "If macro `\\abs{}` is not defined already, run this latex code in a markdown cell before using it:\n",
    "\n",
    "```latex\n",
    "    $\\newcommand{\\abs}[1]{\\left| #1 \\right|}$\n",
    "```"
   ]
  },
  {
   "attachments": {},
   "cell_type": "markdown",
   "metadata": {},
   "source": [
    "# Notation\n",
    "$n, k \\in \\mathbb{N}$  \n",
    "$T(n)$ number of operations given a problem of size $n$\n",
    "\n",
    "## Landau's symbols\n",
    "Symbols used here are: $o, O, \\Omega, \\Theta, \\sim$. Knuth's definition of $\\Omega$ is used. Their definitions are:\n",
    "\n",
    "$$\n",
    "    f(n) = o(g(n)) \\iff \\forall k > 0 \\, \\exists n_0 \\, \\forall n > n_0 : \\abs{f(n)} < k g(n) \\iff \\lim_{n\\to\\infty} \\frac{f(n)}{g(n)} = 0\n",
    "$$\n",
    "$$\n",
    "    f(n) = O(g(n)) \\iff \\exists k > 0 \\, \\exists n_0 \\, \\forall n > n_0 : \\abs{f(n)} \\leq k g(n) \\iff \\limsup_{n\\to\\infty} \\frac{f(n)}{g(n)} < \\infty\n",
    "$$\n",
    "$$\n",
    "    f(n) = \\Omega(g(n)) \\iff \\exists k > 0 \\, \\exists n_0 \\, \\forall n > n_0 : f(n) \\geq k g(n) \\iff \\liminf_{n\\to\\infty} \\frac{f(n)}{g(n)} > 0 \\iff g(n) = O(f(n))\n",
    "$$\n",
    "$$\n",
    "    f(n) = \\Theta(g(n)) \\iff \\exists k_1 > 0 \\, \\exists k_2 > 0 \\, \\exists n_0 \\, \\forall n > n_0 : k_1 g(n) \\leq f(n) \\leq k_2 g(n) \\iff f(n) = O(g(n)) \\wedge f(n) = \\Omega(g(n))\n",
    "$$\n",
    "$$\n",
    "    f(n) \\sim g(n) \\iff \\forall \\epsilon > 0 \\, \\exists n_0 \\, \\forall n > n_0 : \\abs{\\frac{f(n)}{g(n)} - 1} < \\epsilon \\iff \\lim_{n\\to\\infty} \\frac{f(n)}{g(n)} = 1\n",
    "$$"
   ]
  },
  {
   "attachments": {},
   "cell_type": "markdown",
   "metadata": {},
   "source": [
    "# Example 2 (Hanoi towers)"
   ]
  },
  {
   "attachments": {},
   "cell_type": "markdown",
   "metadata": {},
   "source": [
    "## Algorithm 2\n",
    "Algorithm to print the solution of a Hanoi tower game (3 towers)."
   ]
  },
  {
   "cell_type": "code",
   "execution_count": 1,
   "metadata": {
    "tags": []
   },
   "outputs": [],
   "source": [
    "def hanoi(n, source='a', helper='b', target='c'):\n",
    "    if n == 0:\n",
    "        return\n",
    "    hanoi(n - 1, source, target, helper)\n",
    "    print(f\"{source} -> {target}\")\n",
    "    hanoi(n - 1, helper, source, target)"
   ]
  },
  {
   "cell_type": "code",
   "execution_count": 2,
   "metadata": {
    "tags": [
     "remove-cell"
    ]
   },
   "outputs": [
    {
     "name": "stdout",
     "output_type": "stream",
     "text": [
      "a -> c\n",
      "a -> b\n",
      "c -> b\n",
      "a -> c\n",
      "b -> a\n",
      "b -> c\n",
      "a -> c\n"
     ]
    }
   ],
   "source": [
    "hanoi(3)"
   ]
  },
  {
   "attachments": {},
   "cell_type": "markdown",
   "metadata": {},
   "source": [
    "### Computation time\n",
    "It is written in terms of the number of single disk moves $T(n)$ to move $n$ disks from the source rod to the target rod.\n",
    "\n",
    "$$\n",
    "\\begin{cases}\n",
    "    T(0) = 0 \\\\\n",
    "    T(n) = T(n - 1) + 1 + T(n - 1) = 2 T(n - 1) + 1\n",
    "\\end{cases}\n",
    "$$\n",
    "\n",
    "Recursion is easy to solve\n",
    "\n",
    "$$\n",
    "\\begin{split}\n",
    "    T(n) &= 2 (2 T(n - 2) + 1) + 1 = 2^2 T(n - 2) + 2 + 1 = \\\\\n",
    "         &= 2^3 T(n - 3) + 2^2 + 2^1 + 2^0 = \\cdots = 2^n T(0) + \\sum_{k=0}^{n-1} 2^k = \\frac{1 - 2^{n - 1 - 0 + 1}}{1 - 2} = \\\\\n",
    "         &= 2^n - 1 \\sim 2^n\n",
    "\\end{split}\n",
    "$$"
   ]
  },
  {
   "attachments": {},
   "cell_type": "markdown",
   "metadata": {},
   "source": [
    "# Example 4 (Maximum Subarray Problem)"
   ]
  },
  {
   "attachments": {},
   "cell_type": "markdown",
   "metadata": {},
   "source": [
    "## Algorithm"
   ]
  },
  {
   "cell_type": "code",
   "execution_count": null,
   "metadata": {},
   "outputs": [],
   "source": []
  },
  {
   "attachments": {},
   "cell_type": "markdown",
   "metadata": {},
   "source": [
    "### Computation time"
   ]
  },
  {
   "attachments": {},
   "cell_type": "markdown",
   "metadata": {},
   "source": [
    "## Algorithm"
   ]
  },
  {
   "attachments": {},
   "cell_type": "markdown",
   "metadata": {},
   "source": [
    "## Algorithm"
   ]
  },
  {
   "attachments": {},
   "cell_type": "markdown",
   "metadata": {},
   "source": [
    "# Example 5 (MergeSort algorithm)"
   ]
  },
  {
   "attachments": {},
   "cell_type": "markdown",
   "metadata": {},
   "source": [
    "## Algorithm 3"
   ]
  },
  {
   "cell_type": "code",
   "execution_count": 11,
   "metadata": {},
   "outputs": [],
   "source": [
    "def mergesort(a):\n",
    "    n = len(a)\n",
    "    m = n // 2\n",
    "    if m == 0:\n",
    "        return\n",
    "    al = a[:m]\n",
    "    ar = a[m:]\n",
    "    mergesort(al)\n",
    "    mergesort(ar)\n",
    "    l = 0\n",
    "    r = 0\n",
    "    for k in range(len(a)):\n",
    "        if r >= n - m or (l < m and al[l] < ar[r]):\n",
    "            a[k] = al[l]\n",
    "            l += 1\n",
    "        else:\n",
    "            a[k] = ar[r]\n",
    "            r += 1"
   ]
  },
  {
   "cell_type": "code",
   "execution_count": 12,
   "metadata": {
    "tags": [
     "remove-cell"
    ]
   },
   "outputs": [
    {
     "name": "stdout",
     "output_type": "stream",
     "text": [
      "Original: [5, 2, 4, 7, 1, 3, 2, 6]\n",
      "Ordered: [1, 2, 2, 3, 4, 5, 6, 7]\n"
     ]
    }
   ],
   "source": [
    "a = [5, 2, 4, 7, 1, 3, 2, 6]\n",
    "print(f\"Original: {a}\")\n",
    "mergesort(a)\n",
    "print(f\"Ordered: {a}\")"
   ]
  },
  {
   "attachments": {},
   "cell_type": "markdown",
   "metadata": {},
   "source": [
    "### Computation time\n",
    "To sort $n$ elements time is $T(n)$ and the list can be rebuilt in the correct order in $n$ operations\n",
    "\n",
    "$$\n",
    "\\begin{cases}\n",
    "    T(0) = 0 \\\\\n",
    "    T(n) = T\\left(\\frac{n}{2}\\right) + T\\left(\\frac{n}{2}\\right) + n = 2 T\\left(\\frac{n}{2}\\right) + n\n",
    "\\end{cases}\n",
    "$$\n",
    "\n",
    "With $n = 2^k$ the recursion can be solved easily\n",
    "\n",
    "$$\n",
    "\\begin{split}\n",
    "    T(2^k) &= 2 T(2^{k-1}) + 2^k = 2 (2 T(2^{k-2}) + 2^{k-1}) + 2^k = 2^2 T(2^{k-2}) + 2^k + 2^k = 2^2 T(2^{k-2}) + 2 \\cdot 2^k = \\\\\n",
    "    &= 2^3 T(2^{k-3}) + 3 \\cdot 2^k = \\cdots = 2^k T(2^0) + k \\cdot 2^k = 2^k T(1) + k \\cdot 2^k = \\\\\n",
    "    &= 2^k (1 + k) = n (1 + \\log_2 n) \\sim n \\log_2 n\n",
    "\\end{split}\n",
    "$$\n",
    "\n",
    "In general $\\log_2 n \\leq \\lceil \\log_2 n \\rceil \\leq 1 + \\log_2 n$, hence take $n \\leq n' = 2^{\\lceil \\log_2 n \\rceil} \\leq 2n$, observe that $T(n)$ is non-decreasing, then\n",
    "\n",
    "$$\n",
    "    T(n) \\leq T(n') = n' (1 + \\log_2 n') \\leq 2n (1 + \\log_2 2n) = 2n (2 + \\log_2 n) \\implies T(n) = O(n \\log_2 n)\n",
    "$$"
   ]
  },
  {
   "attachments": {},
   "cell_type": "markdown",
   "metadata": {},
   "source": [
    "# Example 6 (QuickSort algorithm)"
   ]
  },
  {
   "attachments": {},
   "cell_type": "markdown",
   "metadata": {},
   "source": [
    "## Algorithm 4"
   ]
  },
  {
   "attachments": {},
   "cell_type": "markdown",
   "metadata": {},
   "source": [
    "### Computation time"
   ]
  }
 ],
 "metadata": {
  "kernelspec": {
   "display_name": "Python 3.10.4 ('venv': venv)",
   "language": "python",
   "name": "python3"
  },
  "language_info": {
   "codemirror_mode": {
    "name": "ipython",
    "version": 3
   },
   "file_extension": ".py",
   "mimetype": "text/x-python",
   "name": "python",
   "nbconvert_exporter": "python",
   "pygments_lexer": "ipython3",
   "version": "3.10.4"
  },
  "orig_nbformat": 4,
  "vscode": {
   "interpreter": {
    "hash": "1015eb0450a38302f8a6c3ddee84c966f9fc98d7c1d26eef2bc811b91e9474f1"
   }
  }
 },
 "nbformat": 4,
 "nbformat_minor": 2
}
