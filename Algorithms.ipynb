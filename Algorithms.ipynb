{
 "cells": [
  {
   "attachments": {},
   "cell_type": "markdown",
   "metadata": {
    "tags": [
     "remove-cell"
    ]
   },
   "source": [
    "# README\n",
    "If a macro is not defined already, run in a Markdown cell the corresponding LaTeX code among the following before using it.\n",
    "\n",
    "```latex\n",
    "    $\\newcommand{\\abs}[1]{\\left| #1 \\right|}$\n",
    "    $\\newcommand{\\expval}[1]{\\left\\langle #1 \\right\\rangle}$\n",
    "    $\\newcommand{\\dd}[1]{\\mathrm{d}#1}$\n",
    "```\n",
    "\n",
    "$\\newcommand{\\abs}[1]{\\left| #1 \\right|}$\n",
    "\n",
    "$\\newcommand{\\expval}[1]{\\left\\langle #1 \\right\\rangle}$\n",
    "\n",
    "$\\newcommand{\\dd}[1]{\\mathrm{d}#1}$"
   ]
  },
  {
   "attachments": {},
   "cell_type": "markdown",
   "metadata": {},
   "source": [
    "# Notation\n",
    "$n, k \\in \\mathbb{N}$  \n",
    "$T(n)$ number of relevant operations performed to find the solution of a problem of size $n$\n",
    "\n",
    "## Landau's symbols\n",
    "Symbols used here are: $o, O, \\Omega, \\Theta, \\sim$. Knuth's definition of $\\Omega$ is used. Their definitions are:\n",
    "\n",
    "$$\n",
    "    f(n) = o(g(n)) \\iff \\forall k > 0 \\, \\exists n_0 \\, \\forall n > n_0 : \\abs{f(n)} < k g(n) \\iff \\lim_{n\\to\\infty} \\frac{f(n)}{g(n)} = 0\n",
    "$$\n",
    "$$\n",
    "    f(n) = O(g(n)) \\iff \\exists k > 0 \\, \\exists n_0 \\, \\forall n > n_0 : \\abs{f(n)} \\leq k g(n) \\iff \\limsup_{n\\to\\infty} \\frac{f(n)}{g(n)} < \\infty\n",
    "$$\n",
    "$$\n",
    "    f(n) = \\Omega(g(n)) \\iff \\exists k > 0 \\, \\exists n_0 \\, \\forall n > n_0 : f(n) \\geq k g(n) \\iff \\liminf_{n\\to\\infty} \\frac{f(n)}{g(n)} > 0 \\iff g(n) = O(f(n))\n",
    "$$\n",
    "$$\n",
    "    f(n) = \\Theta(g(n)) \\iff \\exists k_1 > 0 \\, \\exists k_2 > 0 \\, \\exists n_0 \\, \\forall n > n_0 : k_1 g(n) \\leq f(n) \\leq k_2 g(n) \\iff f(n) = O(g(n)) \\wedge f(n) = \\Omega(g(n))\n",
    "$$\n",
    "$$\n",
    "    f(n) \\sim g(n) \\iff \\forall \\epsilon > 0 \\, \\exists n_0 \\, \\forall n > n_0 : \\abs{\\frac{f(n)}{g(n)} - 1} < \\epsilon \\iff \\lim_{n\\to\\infty} \\frac{f(n)}{g(n)} = 1\n",
    "$$"
   ]
  },
  {
   "attachments": {},
   "cell_type": "markdown",
   "metadata": {},
   "source": [
    "# Example 2 (Hanoi towers)"
   ]
  },
  {
   "attachments": {},
   "cell_type": "markdown",
   "metadata": {},
   "source": [
    "## Algorithm 2\n",
    "Algorithm to print the solution of a Hanoi tower game (3 towers)."
   ]
  },
  {
   "cell_type": "code",
   "execution_count": 9,
   "metadata": {
    "tags": []
   },
   "outputs": [],
   "source": [
    "def hanoi(n, source='a', helper='b', target='c'):\n",
    "    if n == 0:\n",
    "        return\n",
    "    hanoi(n - 1, source, target, helper)\n",
    "    print(f\"{source} -> {target}\")\n",
    "    hanoi(n - 1, helper, source, target)"
   ]
  },
  {
   "cell_type": "code",
   "execution_count": 10,
   "metadata": {
    "tags": [
     "remove-cell"
    ]
   },
   "outputs": [
    {
     "name": "stdout",
     "output_type": "stream",
     "text": [
      "a -> c\n",
      "a -> b\n",
      "c -> b\n",
      "a -> c\n",
      "b -> a\n",
      "b -> c\n",
      "a -> c\n"
     ]
    }
   ],
   "source": [
    "hanoi(3)"
   ]
  },
  {
   "attachments": {},
   "cell_type": "markdown",
   "metadata": {},
   "source": [
    "### Computation time\n",
    "It is written in terms of the number of single disk moves $T(n)$ to move $n$ disks from the source rod to the target rod.\n",
    "\n",
    "$$\n",
    "\\begin{cases}\n",
    "    T(0) = 0 \\\\\n",
    "    T(n) = T(n - 1) + 1 + T(n - 1) = 2 T(n - 1) + 1\n",
    "\\end{cases}\n",
    "$$\n",
    "\n",
    "Recursion is easy to solve\n",
    "\n",
    "$$\n",
    "\\begin{split}\n",
    "    T(n) & = 2 (2 T(n - 2) + 1) + 1 = 2^2 T(n - 2) + 2 + 1 = \\\\\n",
    "         & = 2^3 T(n - 3) + 2^2 + 2^1 + 2^0 = \\cdots = 2^n T(0) + \\sum_{k=0}^{n-1} 2^k = \\frac{1 - 2^{n - 1 - 0 + 1}}{1 - 2} = \\\\\n",
    "         & = 2^n - 1 \\sim 2^n\n",
    "\\end{split}\n",
    "$$"
   ]
  },
  {
   "attachments": {},
   "cell_type": "markdown",
   "metadata": {},
   "source": [
    "# Example 4 (Maximum Subarray Problem)\n",
    "Given an array of numbers $v_1, \\dots, v_n$, find $i, j$ such that $\\sum_{k=i}^j v_k$ is maximum."
   ]
  },
  {
   "attachments": {},
   "cell_type": "markdown",
   "metadata": {},
   "source": [
    "## Algorithm"
   ]
  },
  {
   "cell_type": "code",
   "execution_count": 19,
   "metadata": {},
   "outputs": [],
   "source": [
    "def maxsubarray(a):\n",
    "    n = len(a)\n",
    "    i_max = 0\n",
    "    j_max = 0\n",
    "    s_max = 0\n",
    "    c = 0\n",
    "    for j in range(n):\n",
    "        for i in range(j + 1):\n",
    "            s = 0\n",
    "            for k in range(i, j + 1):\n",
    "                s += a[k]\n",
    "            if s > s_max:\n",
    "                i_max = i\n",
    "                j_max = j\n",
    "                s_max = s\n",
    "    return i_max, j_max\n",
    "\n"
   ]
  },
  {
   "cell_type": "code",
   "execution_count": 20,
   "metadata": {
    "tags": [
     "remove-cell"
    ]
   },
   "outputs": [
    {
     "name": "stdout",
     "output_type": "stream",
     "text": [
      "Original array: [-5, 2, 4, -7, 1, 3, -2, 6]\n",
      "Maximum subarray: [1, 3, -2, 6]\n"
     ]
    }
   ],
   "source": [
    "a = [-5, 2, 4, -7, 1, 3, -2, 6]\n",
    "print(f\"Original array: {a}\")\n",
    "i, j = maxsubarray(a)\n",
    "print(f\"Maximum subarray: {a[i:j+1]}\")"
   ]
  },
  {
   "attachments": {},
   "cell_type": "markdown",
   "metadata": {},
   "source": [
    "### Computation time\n",
    "There are $\\frac{n (n + 1)}{2}$ subsequences of consecutive elements. Evaluating the sum for each of these subsequences takes $O(n)$ operations, hence the computation time for the complete algorithm is\n",
    "\n",
    "$$\n",
    "    T(n) = \\frac{n (n + 1)}{2} \\cdot O(n) = \\frac{n^2 + n}{2} \\cdot O(n) = O(n^3) + O(n^2) = O(n^3)\n",
    "$$"
   ]
  },
  {
   "attachments": {},
   "cell_type": "markdown",
   "metadata": {},
   "source": [
    "## Algorithm"
   ]
  },
  {
   "cell_type": "code",
   "execution_count": 36,
   "metadata": {},
   "outputs": [],
   "source": [
    "def maxsubarray(a):\n",
    "    n = len(a)\n",
    "    L = [a[0]]\n",
    "    for i in range(1, n):\n",
    "        L.append(L[i-1] + a[i])\n",
    "    i_max = 0\n",
    "    j_max = 0\n",
    "    s_max = 0\n",
    "    for j in range(n):\n"
   ]
  },
  {
   "cell_type": "code",
   "execution_count": 37,
   "metadata": {
    "tags": [
     "remove-cell"
    ]
   },
   "outputs": [
    {
     "name": "stdout",
     "output_type": "stream",
     "text": [
      "Original array: [-5, 2, 4, -7, 1, 3, -2, 6]\n",
      "[-5, -3, 1, -6, -5, -2, -4, 2]\n"
     ]
    },
    {
     "ename": "TypeError",
     "evalue": "cannot unpack non-iterable NoneType object",
     "output_type": "error",
     "traceback": [
      "\u001b[1;31m---------------------------------------------------------------------------\u001b[0m",
      "\u001b[1;31mTypeError\u001b[0m                                 Traceback (most recent call last)",
      "Cell \u001b[1;32mIn[37], line 3\u001b[0m\n\u001b[0;32m      1\u001b[0m a \u001b[39m=\u001b[39m [\u001b[39m-\u001b[39m\u001b[39m5\u001b[39m, \u001b[39m2\u001b[39m, \u001b[39m4\u001b[39m, \u001b[39m-\u001b[39m\u001b[39m7\u001b[39m, \u001b[39m1\u001b[39m, \u001b[39m3\u001b[39m, \u001b[39m-\u001b[39m\u001b[39m2\u001b[39m, \u001b[39m6\u001b[39m]\n\u001b[0;32m      2\u001b[0m \u001b[39mprint\u001b[39m(\u001b[39mf\u001b[39m\u001b[39m\"\u001b[39m\u001b[39mOriginal array: \u001b[39m\u001b[39m{\u001b[39;00ma\u001b[39m}\u001b[39;00m\u001b[39m\"\u001b[39m)\n\u001b[1;32m----> 3\u001b[0m i, j \u001b[39m=\u001b[39m maxsubarray(a)\n\u001b[0;32m      4\u001b[0m \u001b[39mprint\u001b[39m(\u001b[39mf\u001b[39m\u001b[39m\"\u001b[39m\u001b[39mMaximum subarray: \u001b[39m\u001b[39m{\u001b[39;00ma[i:j\u001b[39m+\u001b[39m\u001b[39m1\u001b[39m]\u001b[39m}\u001b[39;00m\u001b[39m\"\u001b[39m)\n\u001b[0;32m      5\u001b[0m \u001b[39m#-5, -3, 1, -6, -5, -2, -4, 2]\u001b[39;00m\n",
      "\u001b[1;31mTypeError\u001b[0m: cannot unpack non-iterable NoneType object"
     ]
    }
   ],
   "source": [
    "a = [-5, 2, 4, -7, 1, 3, -2, 6]\n",
    "print(f\"Original array: {a}\")\n",
    "i, j = maxsubarray(a)\n",
    "print(f\"Maximum subarray: {a[i:j+1]}\")"
   ]
  },
  {
   "attachments": {},
   "cell_type": "markdown",
   "metadata": {},
   "source": [
    "### Computation time"
   ]
  },
  {
   "attachments": {},
   "cell_type": "markdown",
   "metadata": {},
   "source": [
    "## Algorithm"
   ]
  },
  {
   "cell_type": "code",
   "execution_count": null,
   "metadata": {
    "tags": [
     "remove-cell"
    ]
   },
   "outputs": [],
   "source": [
    "a = [-5, 2, 4, 7, 1, 3, -2, 6]\n",
    "print(f\"Original array: {a}\")\n",
    "i, j = maxsubarray(a)\n",
    "print(f\"Maximum subarray: {a[i:j+1]}\")"
   ]
  },
  {
   "attachments": {},
   "cell_type": "markdown",
   "metadata": {},
   "source": [
    "### Computation time"
   ]
  },
  {
   "attachments": {},
   "cell_type": "markdown",
   "metadata": {},
   "source": [
    "# Example 5 (MergeSort algorithm)"
   ]
  },
  {
   "attachments": {},
   "cell_type": "markdown",
   "metadata": {},
   "source": [
    "## Algorithm 3"
   ]
  },
  {
   "cell_type": "code",
   "execution_count": 11,
   "metadata": {},
   "outputs": [],
   "source": [
    "def mergesort(a):\n",
    "    n = len(a)\n",
    "    m = n // 2\n",
    "    if m == 0:\n",
    "        return\n",
    "    al = a[:m]\n",
    "    ar = a[m:]\n",
    "    mergesort(al)\n",
    "    mergesort(ar)\n",
    "    l = 0\n",
    "    r = 0\n",
    "    for k in range(len(a)):\n",
    "        if r >= n - m or (l < m and al[l] < ar[r]):\n",
    "            a[k] = al[l]\n",
    "            l += 1\n",
    "        else:\n",
    "            a[k] = ar[r]\n",
    "            r += 1"
   ]
  },
  {
   "cell_type": "code",
   "execution_count": 12,
   "metadata": {
    "tags": [
     "remove-cell"
    ]
   },
   "outputs": [
    {
     "name": "stdout",
     "output_type": "stream",
     "text": [
      "Original: [5, 2, 4, 7, 1, 3, 2, 6]\n",
      "Ordered: [1, 2, 2, 3, 4, 5, 6, 7]\n"
     ]
    }
   ],
   "source": [
    "a = [5, 2, 4, 7, 1, 3, 2, 6]\n",
    "print(f\"Original: {a}\")\n",
    "mergesort(a)\n",
    "print(f\"Ordered: {a}\")"
   ]
  },
  {
   "attachments": {},
   "cell_type": "markdown",
   "metadata": {},
   "source": [
    "### Computation time\n",
    "To sort $n$ elements time is $T(n)$ and the list can be rebuilt in the correct order in $n$ operations\n",
    "\n",
    "$$\n",
    "\\begin{cases}\n",
    "    T(0) = 0 \\\\\n",
    "    T(n) = T\\left(\\frac{n}{2}\\right) + T\\left(\\frac{n}{2}\\right) + n = 2 T\\left(\\frac{n}{2}\\right) + n\n",
    "\\end{cases}\n",
    "$$\n",
    "\n",
    "With $n = 2^k$ the recursion can be solved easily\n",
    "\n",
    "$$\n",
    "\\begin{split}\n",
    "    T(2^k) & = 2 T(2^{k-1}) + 2^k = 2 (2 T(2^{k-2}) + 2^{k-1}) + 2^k = 2^2 T(2^{k-2}) + 2^k + 2^k = 2^2 T(2^{k-2}) + 2 \\cdot 2^k = \\\\\n",
    "    & = 2^3 T(2^{k-3}) + 3 \\cdot 2^k = \\cdots = 2^k T(2^0) + k \\cdot 2^k = 2^k T(1) + k \\cdot 2^k = \\\\\n",
    "    & = 2^k (1 + k) = n (1 + \\log_2 n) \\sim n \\log_2 n\n",
    "\\end{split}\n",
    "$$\n",
    "\n",
    "In general $\\log_2 n \\leq \\lceil \\log_2 n \\rceil \\leq 1 + \\log_2 n$, hence take $n \\leq n' = 2^{\\lceil \\log_2 n \\rceil} \\leq 2n$, observe that $T(n)$ is non-decreasing, then\n",
    "\n",
    "$$\n",
    "    T(n) \\leq T(n') = n' (1 + \\log_2 n') \\leq 2n (1 + \\log_2 2n) = 2n (2 + \\log_2 n) \\implies T(n) = O(n \\log_2 n)\n",
    "$$"
   ]
  },
  {
   "attachments": {},
   "cell_type": "markdown",
   "metadata": {},
   "source": [
    "# Example 6 (QuickSort algorithm)"
   ]
  },
  {
   "attachments": {},
   "cell_type": "markdown",
   "metadata": {},
   "source": [
    "## Algorithm 4"
   ]
  },
  {
   "cell_type": "code",
   "execution_count": 19,
   "metadata": {},
   "outputs": [],
   "source": [
    "def quicksort(a):\n",
    "    if len(a) == 0:\n",
    "        return []\n",
    "    al = quicksort([item for item in a[1:] if item < a[0]])\n",
    "    ag = quicksort([item for item in a[1:] if item >= a[0]])\n",
    "    al.append(a[0])\n",
    "    al.extend(ag)\n",
    "    return al"
   ]
  },
  {
   "cell_type": "code",
   "execution_count": 20,
   "metadata": {
    "tags": [
     "remove-cell"
    ]
   },
   "outputs": [
    {
     "name": "stdout",
     "output_type": "stream",
     "text": [
      "Original: [5, 2, 4, 7, 1, 3, 2, 6]\n",
      "Ordered: [1, 2, 2, 3, 4, 5, 6, 7]\n"
     ]
    }
   ],
   "source": [
    "a = [5, 2, 4, 7, 1, 3, 2, 6]\n",
    "print(f\"Original: {a}\")\n",
    "a = quicksort(a)\n",
    "print(f\"Ordered: {a}\")"
   ]
  },
  {
   "attachments": {},
   "cell_type": "markdown",
   "metadata": {},
   "source": [
    "### Computation time\n",
    "Given a list of size $n$ and the pivot in position $k \\in \\{0, 1, \\dots, n - 1\\}$, $n - 1$ operations are needed to split it in two lists: one of size $k$ of elements less than the pivot, one of size $n - k - 1$ of elements greater or equal than the pivot.\n",
    "\n",
    "$$\n",
    "\\begin{cases}\n",
    "    T(1) = 1 \\\\\n",
    "    T(n) = n - 1 + T(k) + T(n - k - 1)\n",
    "\\end{cases}\n",
    "$$\n",
    "\n",
    "With a fixed pivot, worst case scenario has the pivot as first or last element of the list at each iteration and the computation time is $T(n) = O(n^2)$. Best case scenario has the pivot as middle element at each iteration and the computation time is $T(n) = O(n \\log_2 n)$.\n",
    "\n",
    "With a random pivot, which is uniformly distributed among all the elements, the computation time is\n",
    "\n",
    "$$\n",
    "\\begin{split}\n",
    "    T(n) & = \\expval{n - 1 + T(k) + T(n - k - 1)}_k = \\\\\n",
    "    & = \\sum_{k=0}^{n-1} \\frac{1}{n} (n - 1 + T(k) + T(n - k - 1)) = \\\\\n",
    "    & = n - 1 + \\frac{1}{n} \\sum_{k=0}^{n-1} (T(k) + T(n - k - 1)) = \\\\\n",
    "    & = n - 1 + \\frac{2}{n} \\sum_{k=0}^{n-1} T(k) \\iff \\\\\n",
    "    %& = n - 1 + \\frac{2}{n} \\left( \\sum_{k=0}^{n-2} T(k) + T(n - 1) \\right) \\iff \\\\\n",
    "    %& \\iff n T(n) = n (n - 1) + 2 \\sum_{k=0}^{n-2} T(k) + 2 T(n - 1) \\iff \\\\\n",
    "    & \\iff n T(n) - (n - 1) T(n - 1) = n (n - 1) + 2 \\sum_{k=0}^{n-1} T(k) - (n - 1) (n - 1 - 1) - 2 \\sum_{k=0}^{n-1-1} T(k) = \\\\\n",
    "    & = n^2 - n + 2 \\sum_{k=0}^{n-2} T(k) + 2 T(n - 1) - (n^2 - 3n + 2) - 2 \\sum_{k=0}^{n-2} T(k) = \\\\\n",
    "    & = 2n - 2 + 2 T(n - 1) \\iff \\\\\n",
    "    & \\iff n T(n) - (n + 1) T(n - 1) = 2 (n - 1) \\iff \\\\\n",
    "    & \\iff \\frac{1}{n + 1} T(n) - \\frac{1}{n} T(n - 1) = \\frac{2 (n - 1)}{n (n + 1)} \\leq \\frac{2}{n} \\iff \\\\\n",
    "    & \\iff \\frac{1}{n + 1} T(n) \\leq \\frac{2}{n} + \\frac{1}{n} T(n - 1) \\leq \\frac{2}{n} + \\frac{2}{n - 1} + \\frac{1}{n - 1} T(n - 2) \\leq \\cdots \\leq 2 \\sum_{i=1}^n \\frac{1}{i} = \\\\\n",
    "    & = 2 + \\sum_{i=2}^n \\frac{1}{i} \\leq 2 + 2 \\int_1^n \\frac{1}{x} \\dd{x} = 2 + 2 \\ln n \\iff \\\\\n",
    "    & \\iff T(n) \\leq (n + 1) (2 + 2 \\ln n) = 2 + 2 \\ln n + 2n + n \\frac{\\log_2 n}{\\log_2 e} \\iff \\\\\n",
    "    & \\iff T(n) = O(n \\log_2 n)\n",
    "\\end{split}\n",
    "$$"
   ]
  }
 ],
 "metadata": {
  "kernelspec": {
   "display_name": "Python 3.10.4 ('venv': venv)",
   "language": "python",
   "name": "python3"
  },
  "language_info": {
   "codemirror_mode": {
    "name": "ipython",
    "version": 3
   },
   "file_extension": ".py",
   "mimetype": "text/x-python",
   "name": "python",
   "nbconvert_exporter": "python",
   "pygments_lexer": "ipython3",
   "version": "3.10.4"
  },
  "orig_nbformat": 4,
  "vscode": {
   "interpreter": {
    "hash": "1015eb0450a38302f8a6c3ddee84c966f9fc98d7c1d26eef2bc811b91e9474f1"
   }
  }
 },
 "nbformat": 4,
 "nbformat_minor": 2
}
