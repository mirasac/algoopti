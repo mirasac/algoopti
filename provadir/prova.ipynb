{
  "cells": [
    {
      "cell_type": "markdown",
      "metadata": {
        "id": "view-in-github",
        "colab_type": "text"
      },
      "source": [
        "<a href=\"https://colab.research.google.com/github/mirasac/algoopti/blob/test-julia/provadir/prova.ipynb\" target=\"_parent\"><img src=\"https://colab.research.google.com/assets/colab-badge.svg\" alt=\"Open In Colab\"/></a>"
      ]
    },
    {
      "cell_type": "code",
      "execution_count": 3,
      "metadata": {
        "id": "O6PyzYwvuQnU"
      },
      "outputs": [],
      "source": [
        "# Run this block to install the specified version of Julia in the current Google Colab session.\n",
        "%%capture\n",
        "%%bash\n",
        "set -e\n",
        "\n",
        "JULIA_VERSION='1.6.7'\n",
        "\n",
        "# Install Julia if not already present.\n",
        "if [ -z \"$(which julia)\" ]\n",
        "then\n",
        "    JULIA_V=\"${JULIA_VERSION%.*}\"\n",
        "    URL_BASE='https://julialang-s3.julialang.org/bin/linux/x64'\n",
        "    URL=\"${URL_BASE}/${JULIA_V}/julia-${JULIA_VERSION}-linux-x86_64.tar.gz\"\n",
        "    wget \"${URL}\" -O /tmp/julia.tar.gz\n",
        "    tar -x -f /tmp/julia.tar.gz -C /usr/local --strip-components 1\n",
        "    rm /tmp/julia.tar.gz\n",
        "fi\n",
        "\n",
        "# Install Julia kernel for Jupyter.\n",
        "julia -e 'using Pkg; Pkg.add(\"IJulia\"); using IJulia; IJulia.installkernel(\"julia\")'\n",
        "KERNEL_DIR=\"$(julia -e 'using IJulia; print(IJulia.kerneldir())')\"\n",
        "jupyter kernelspec install \"${KERNEL_DIR}/julia-${JULIA_V}\" --replace --name julia\n",
        "\n",
        "# After the block execution is complete, select the Julia runtime."
      ]
    },
    {
      "cell_type": "code",
      "source": [
        "!echo 'Test edit existing notebook'"
      ],
      "metadata": {
        "colab": {
          "base_uri": "https://localhost:8080/"
        },
        "id": "GeLv-4ZtycOE",
        "outputId": "99b5dfcd-dc5b-4314-867e-cf3f54d0da49"
      },
      "execution_count": 2,
      "outputs": [
        {
          "output_type": "stream",
          "name": "stdout",
          "text": [
            "Test edit existing notebook\n"
          ]
        }
      ]
    },
    {
      "cell_type": "code",
      "source": [
        "versioninfo()"
      ],
      "metadata": {
        "colab": {
          "base_uri": "https://localhost:8080/"
        },
        "id": "t204KRM9ydFC",
        "outputId": "2509cd0b-20a7-4cb1-aef4-925ed18262b0"
      },
      "execution_count": 1,
      "outputs": [
        {
          "output_type": "stream",
          "name": "stdout",
          "text": [
            "Julia Version 1.6.7\n",
            "Commit 3b76b25b64 (2022-07-19 15:11 UTC)\n",
            "Platform Info:\n",
            "  OS: Linux (x86_64-pc-linux-gnu)\n",
            "  CPU: Intel(R) Xeon(R) CPU @ 2.20GHz\n",
            "  WORD_SIZE: 64\n",
            "  LIBM: libopenlibm\n",
            "  LLVM: libLLVM-11.0.1 (ORCJIT, broadwell)\n"
          ]
        }
      ]
    }
  ],
  "metadata": {
    "colab": {
      "provenance": [],
      "include_colab_link": true
    },
    "kernelspec": {
      "display_name": "Julia",
      "language": "julia",
      "name": "julia"
    },
    "gpuClass": "standard"
  },
  "nbformat": 4,
  "nbformat_minor": 0
}