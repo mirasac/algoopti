{
  "cells": [],
  "metadata": {
    "colab": {
      "provenance": []
    },
    "kernelspec": {
      "display_name": "Julia",
      "language": "julia",
      "name": "julia"
    }
  },
  "nbformat": 4,
  "nbformat_minor": 0
}
