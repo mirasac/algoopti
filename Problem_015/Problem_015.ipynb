{
  "cells": [
    {
      "cell_type": "markdown",
      "metadata": {
        "colab_type": "text",
        "id": "view-in-github"
      },
      "source": [
        "<a href=\"https://colab.research.google.com/github/mirasac/algoopti/blob/main/template_python.ipynb\" target=\"_parent\"><img src=\"https://colab.research.google.com/assets/colab-badge.svg\" alt=\"Open In Colab\"/></a>"
      ]
    },
    {
      "cell_type": "code",
      "execution_count": 1,
      "metadata": {},
      "outputs": [],
      "source": [
        "import numpy as np"
      ]
    },
    {
      "cell_type": "markdown",
      "metadata": {},
      "source": [
        "# Matrix powers\n",
        "Given a square matrix $A$ and $n \\in \\mathbb{N}$, find the most efficient way to evaluate $A^n$.\n",
        "\n",
        "## Algorithm\n",
        "The most efficient way in this case means with the least number of matrix products. By definition, if $n = 0$ the result is the identity matrix. So values $n \\geq 1$ are considered.\n",
        "\n",
        "A naive implementation without grouping requires a number $n - 1$ of products, since products are performed sequentially.\n",
        "\n",
        "Here I consider a different implementation where the sequence of products is divided in halves when possible. If $n$ the product of one half is evaluated and its value memoized to calculate the result with an additional product. If $n$ is odd, it is possible to retrieve the even case by first removing a single product, which is then reconsidered at the end of the solution of the subproblem."
      ]
    },
    {
      "cell_type": "code",
      "execution_count": null,
      "metadata": {},
      "outputs": [],
      "source": [
        "def matrix_powers(A, n):\n",
        "    memoize = {1: A}\n",
        "    def _matrix_powers(A, n):\n",
        "        if n == 1:\n",
        "            return memoize[n]\n",
        "        elif n % 2 == 0:\n",
        "            return _matrix_powers(A, n // 2)\n",
        "        else:\n",
        "            return np.matmul(A, _matrix_powers(A, n // 2))\n",
        "    return memoize[n]"
      ]
    },
    {
      "cell_type": "code",
      "execution_count": null,
      "metadata": {},
      "outputs": [],
      "source": []
    },
    {
      "cell_type": "markdown",
      "metadata": {},
      "source": [
        "### Computation time\n",
        "Computation time is the number of matrix products. For $n = 0$ the result is the identity matrix by definition, hence $T(0) = 0$. The initial condition is $T(1) = 0$. For $n \\geq 2$ the computation time is\n",
        "\n",
        "$$\n",
        "T(n) =\n",
        "\\begin{cases}\n",
        "    1 + T(\\frac{n}{2}) & \\text{$n$ even} \\\\\n",
        "    2 + T(\\frac{n - 1}{2}) & \\text{$n$ odd}\n",
        "\\end{cases}\n",
        "\\quad .\n",
        "$$\n",
        "\n",
        "To find an explicit formula for the computation time, first consider the special case $n = 2^k$ with $k \\in \\mathbb{N}$. The computation time is evaluated as\n",
        "\n",
        "$$\n",
        "T(n) = T(2^k) = 1 + T \\bigg( \\frac{2^k}{2} \\bigg) = 1 + T(2^{k - 1}) = 2 + T(2^{k - 2}) = \\cdots = k + T(1) = k = \\log_2(n)\n",
        "\\quad .\n",
        "$$\n",
        "\n",
        "A generic $n$ can be written as $2^k \\leq n < 2^{k + 1}$. Since $T(n)$ is an increasing function with respect to $n$, then the computation time can be bounded from above,\n",
        "\n",
        "$$\n",
        "T(n) < 1 + T \\bigg( \\frac{2^{k + 1}}{2} \\bigg) = 1 + T(2^k) = k = \\log_2(n)\n",
        "\\quad ,\n",
        "$$\n",
        "\n",
        "resulting in $T(n) = O(\\log_2(n))$."
      ]
    }
  ],
  "metadata": {
    "colab": {
      "provenance": []
    },
    "kernelspec": {
      "display_name": "Python 3.10.4 64-bit",
      "language": "python",
      "name": "python3"
    },
    "language_info": {
      "codemirror_mode": {
        "name": "ipython",
        "version": 3
      },
      "file_extension": ".py",
      "mimetype": "text/x-python",
      "name": "python",
      "nbconvert_exporter": "python",
      "pygments_lexer": "ipython3",
      "version": "3.10.4"
    }
  },
  "nbformat": 4,
  "nbformat_minor": 0
}
