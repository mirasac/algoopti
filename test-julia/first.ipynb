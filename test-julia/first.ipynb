{
  "cells": [
    {
      "cell_type": "code",
      "execution_count": null,
      "id": "d3462826-1c07-4114-8e4f-03ce7ced72ec",
      "metadata": {
        "trusted": true,
        "id": "d3462826-1c07-4114-8e4f-03ce7ced72ec",
        "outputId": "4ce7c0e6-9795-4f78-ea5a-1db9e93f1261"
      },
      "outputs": [
        {
          "name": "stdout",
          "output_type": "stream",
          "text": [
            "Hello Jupyter, from Julia\n"
          ]
        }
      ],
      "source": [
        "println(\"Hello Jupyter, from Julia\")"
      ]
    },
    {
      "cell_type": "markdown",
      "id": "a58fc2ee",
      "metadata": {
        "id": "a58fc2ee"
      },
      "source": [
        "Second block of `code` added on my local machine and pushed with Git."
      ]
    },
    {
      "cell_type": "code",
      "execution_count": null,
      "id": "920d38fb",
      "metadata": {
        "id": "920d38fb"
      },
      "outputs": [],
      "source": [
        "println(\"Hello there\")"
      ]
    },
    {
      "cell_type": "markdown",
      "source": [
        "Third block of code added in Google Colab."
      ],
      "metadata": {
        "id": "Yl9NebLAw3oj"
      },
      "id": "Yl9NebLAw3oj"
    },
    {
      "cell_type": "code",
      "source": [
        "println(\"General Kenobi\")"
      ],
      "metadata": {
        "id": "yjak2kwHw7DP"
      },
      "id": "yjak2kwHw7DP",
      "execution_count": null,
      "outputs": []
    }
  ],
  "metadata": {
    "kernelspec": {
      "display_name": "Julia 1.8.5",
      "language": "julia",
      "name": "julia-1.8"
    },
    "language_info": {
      "file_extension": ".jl",
      "mimetype": "application/julia",
      "name": "julia",
      "version": "1.8.5"
    },
    "colab": {
      "provenance": []
    }
  },
  "nbformat": 4,
  "nbformat_minor": 5
}