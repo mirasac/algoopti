{
  "cells": [
    {
      "cell_type": "code",
      "execution_count": 1,
      "metadata": {
        "id": "4ceb18ad"
      },
      "outputs": [],
      "source": [
        "# Run this block to install the specified version of Julia in the current Google Colab session.\n",
        "%%capture\n",
        "%%bash\n",
        "set -e\n",
        "\n",
        "JULIA_VERSION='1.6.7'\n",
        "\n",
        "# Install Julia if not already present.\n",
        "if [ -z \"$(which julia)\" ]\n",
        "then\n",
        "    JULIA_V=\"${JULIA_VERSION%.*}\"\n",
        "    URL_BASE='https://julialang-s3.julialang.org/bin/linux/x64'\n",
        "    URL=\"${URL_BASE}/${JULIA_V}/julia-${JULIA_VERSION}-linux-x86_64.tar.gz\"\n",
        "    wget \"${URL}\" -O /tmp/julia.tar.gz\n",
        "    tar -x -f /tmp/julia.tar.gz -C /usr/local --strip-components 1\n",
        "    rm /tmp/julia.tar.gz\n",
        "fi\n",
        "\n",
        "# Install Julia kernel for Jupyter.\n",
        "julia -e 'using Pkg; Pkg.add(\"IJulia\"); using IJulia; IJulia.installkernel(\"julia\")'\n",
        "KERNEL_DIR=\"$(julia -e 'using IJulia; print(IJulia.kerneldir())')\"\n",
        "jupyter kernelspec install \"${KERNEL_DIR}/julia-${JULIA_V}\" --replace --name julia\n",
        "\n",
        "# After the block execution is complete, select the Julia runtime."
      ]
    },
    {
      "cell_type": "code",
      "execution_count": 2,
      "metadata": {
        "id": "d3462826-1c07-4114-8e4f-03ce7ced72ec",
        "outputId": "18b22e8d-b130-4c0e-d22c-7fc756819004",
        "trusted": true,
        "colab": {
          "base_uri": "https://localhost:8080/"
        }
      },
      "outputs": [
        {
          "output_type": "stream",
          "name": "stdout",
          "text": [
            "Hello Jupyter, from Julia\n"
          ]
        }
      ],
      "source": [
        "println(\"Hello Jupyter, from Julia\")"
      ]
    },
    {
      "cell_type": "markdown",
      "metadata": {
        "id": "a58fc2ee"
      },
      "source": [
        "Second block of `code` added on my local machine and pushed with Git."
      ]
    },
    {
      "cell_type": "code",
      "execution_count": null,
      "metadata": {
        "id": "920d38fb"
      },
      "outputs": [],
      "source": [
        "println(\"Hello there\")"
      ]
    },
    {
      "cell_type": "markdown",
      "metadata": {
        "id": "Yl9NebLAw3oj"
      },
      "source": [
        "Third block of code added in Google Colab."
      ]
    },
    {
      "cell_type": "code",
      "execution_count": 3,
      "metadata": {
        "id": "yjak2kwHw7DP",
        "outputId": "4cde9254-dfd6-4fd3-a0d9-aedb541390cc",
        "colab": {
          "base_uri": "https://localhost:8080/"
        }
      },
      "outputs": [
        {
          "output_type": "stream",
          "name": "stdout",
          "text": [
            "General Kenobi\n"
          ]
        }
      ],
      "source": [
        "println(\"General Kenobi\")"
      ]
    },
    {
      "cell_type": "code",
      "source": [
        "# Test after Julia installation.\n",
        "versioninfo()"
      ],
      "metadata": {
        "id": "rPeM2F7JpejG",
        "outputId": "5f15c5bc-3217-4e0a-c971-6ea9e9e26411",
        "colab": {
          "base_uri": "https://localhost:8080/"
        }
      },
      "execution_count": 1,
      "outputs": [
        {
          "output_type": "stream",
          "name": "stdout",
          "text": [
            "Julia Version 1.6.7\n",
            "Commit 3b76b25b64 (2022-07-19 15:11 UTC)\n",
            "Platform Info:\n",
            "  OS: Linux (x86_64-pc-linux-gnu)\n",
            "  CPU: AMD EPYC 7B12\n",
            "  WORD_SIZE: 64\n",
            "  LIBM: libopenlibm\n",
            "  LLVM: libLLVM-11.0.1 (ORCJIT, znver2)\n"
          ]
        }
      ]
    }
  ],
  "metadata": {
    "colab": {
      "provenance": []
    },
    "kernelspec": {
      "display_name": "Julia",
      "language": "julia",
      "name": "julia"
    },
    "gpuClass": "standard"
  },
  "nbformat": 4,
  "nbformat_minor": 0
}