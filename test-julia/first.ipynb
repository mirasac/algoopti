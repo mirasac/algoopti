{
  "cells": [
    {
      "cell_type": "code",
      "execution_count": null,
      "id": "4ceb18ad",
      "metadata": {},
      "outputs": [],
      "source": [
        "# Run this block to install the specified version of Julia in the current Google Colab session.\n",
        "%%capture\n",
        "%%bash\n",
        "set -e\n",
        "\n",
        "JULIA_VERSION='1.6.7'\n",
        "\n",
        "# Install Julia if not already present.\n",
        "if [ -z \"$(which julia)\" ]\n",
        "then\n",
        "    JULIA_V=\"${JULIA_VERSION%.*}\"\n",
        "    URL_BASE='https://julialang-s3.julialang.org/bin/linux/x64'\n",
        "    URL=\"${URL_BASE}/${JULIA_V}/julia-${JULIA_VERSION}-linux-x86_64.tar.gz\"\n",
        "    wget \"${URL}\" -O /tmp/julia.tar.gz\n",
        "    tar -x -f /tmp/julia.tar.gz -C /usr/local --strip-components 1\n",
        "    rm /tmp/julia.tar.gz\n",
        "fi\n",
        "\n",
        "# Install Julia kernel for Jupyter.\n",
        "julia -e 'using Pkg; Pkg.add(\"IJulia\"); using IJulia; IJulia.installkernel(\"julia\")'\n",
        "KERNEL_DIR=\"$(julia -e 'using IJulia; print(IJulia.kerneldir())')\"\n",
        "jupyter kernelspec install \"${KERNEL_DIR}/julia-${JULIA_V}\" --replace --name julia\n",
        "\n",
        "# After the block execution is complete, select the Julia runtime."
      ]
    },
    {
      "cell_type": "code",
      "execution_count": null,
      "id": "d3462826-1c07-4114-8e4f-03ce7ced72ec",
      "metadata": {
        "id": "d3462826-1c07-4114-8e4f-03ce7ced72ec",
        "outputId": "4ce7c0e6-9795-4f78-ea5a-1db9e93f1261",
        "trusted": true
      },
      "outputs": [
        {
          "name": "stdout",
          "output_type": "stream",
          "text": [
            "Hello Jupyter, from Julia\n"
          ]
        }
      ],
      "source": [
        "println(\"Hello Jupyter, from Julia\")"
      ]
    },
    {
      "cell_type": "markdown",
      "id": "a58fc2ee",
      "metadata": {
        "id": "a58fc2ee"
      },
      "source": [
        "Second block of `code` added on my local machine and pushed with Git."
      ]
    },
    {
      "cell_type": "code",
      "execution_count": null,
      "id": "920d38fb",
      "metadata": {
        "id": "920d38fb"
      },
      "outputs": [],
      "source": [
        "println(\"Hello there\")"
      ]
    },
    {
      "cell_type": "markdown",
      "id": "Yl9NebLAw3oj",
      "metadata": {
        "id": "Yl9NebLAw3oj"
      },
      "source": [
        "Third block of code added in Google Colab."
      ]
    },
    {
      "cell_type": "code",
      "execution_count": null,
      "id": "yjak2kwHw7DP",
      "metadata": {
        "id": "yjak2kwHw7DP"
      },
      "outputs": [],
      "source": [
        "println(\"General Kenobi\")"
      ]
    }
  ],
  "metadata": {
    "colab": {
      "provenance": []
    },
    "kernelspec": {
      "display_name": "Julia",
      "language": "julia",
      "name": "julia"
    }
  },
  "nbformat": 4,
  "nbformat_minor": 0
}
